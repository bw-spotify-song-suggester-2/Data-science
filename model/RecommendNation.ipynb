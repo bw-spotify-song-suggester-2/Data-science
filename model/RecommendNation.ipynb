{
 "cells": [
  {
   "cell_type": "code",
   "execution_count": 1,
   "metadata": {},
   "outputs": [],
   "source": [
    "import requests, time, os\n",
    "import pandas as pd\n",
    "from pandas.io.json import json_normalize\n",
    "import spotipy\n",
    "from spotipy.oauth2 import SpotifyClientCredentials\n",
    "from functools import reduce\n",
    "import operator\n",
    "import csv"
   ]
  },
  {
   "cell_type": "code",
   "execution_count": 2,
   "metadata": {},
   "outputs": [],
   "source": [
    "client_credentials_manager = SpotifyClientCredentials()\n",
    "spotify = spotipy.Spotify(client_credentials_manager=SpotifyClientCredentials())\n",
    "sp = spotipy.Spotify(client_credentials_manager=client_credentials_manager)"
   ]
  },
  {
   "cell_type": "code",
   "execution_count": 3,
   "metadata": {},
   "outputs": [],
   "source": [
    "def spotify_playlist_tracks(playlist_id):\n",
    "    \"\"\"\n",
    "    Takes a spotify playlist ID and returns a pandas dataframe \n",
    "    containing the artist name, album name, track name, and track id.\n",
    "    \n",
    "    \"\"\"\n",
    "    \n",
    "    offset = 0\n",
    "    track_listings = []\n",
    "    \n",
    "    touch = sp.playlist_tracks(playlist_id, \n",
    "                               fields=\"track(name%2C%20id%2C%20album(name))\", \n",
    "                               limit = 1, offset = 0, market='ES')\n",
    "    \n",
    "    num_listings = touch['total']  # see how many total songs in the playlist\n",
    "\n",
    "    for ii in range(0,num_listings, 100):\n",
    "        tracks = sp.playlist_tracks(playlist_id, \n",
    "                                    fields=\"track(name%2C%20id%2C%20album(name))\", \n",
    "                                    limit = 100, offset = ii, market='ES')\n",
    "        while tracks:\n",
    "            for i, track in enumerate(tracks['items']):\n",
    "                track_listings.append([tracks['items'][i]['track']['artists'][0]['name'],\n",
    "                                       tracks['items'][i]['track']['album']['name'], \n",
    "                                       tracks['items'][i]['track']['name'], \n",
    "                                       tracks['items'][i]['track']['id']])\n",
    "\n",
    "            if tracks['next']:\n",
    "                tracks = sp.next(tracks)\n",
    "            else:\n",
    "                tracks = None\n",
    "                \n",
    "        time.sleep(0.3) #To make sure we don't abuse spotify's API terms\n",
    "        \n",
    "    columns = ['artist', 'album', 'track', 'track_id']\n",
    "\n",
    "    track_listings_df = pd.DataFrame(track_listings, columns = columns)\n",
    "        \n",
    "    return track_listings_df"
   ]
  },
  {
   "cell_type": "code",
   "execution_count": 4,
   "metadata": {},
   "outputs": [],
   "source": [
    "def spotify_track_features(track_ids):\n",
    "    \"\"\"\n",
    "    Takes a list of spotify track IDs and returns a pandas dataframe \n",
    "    containing various features of each track.\n",
    "    \n",
    "    \"\"\"\n",
    "    \n",
    "    track_features = []\n",
    "    \n",
    "    for ii in range(0, len(track_ids), 100):\n",
    "        if ii <= (len(track_ids)-100):\n",
    "            track_features.append(sp.audio_features(track_ids[ii:ii+100]))\n",
    "        else:\n",
    "            track_features.append(sp.audio_features(track_ids[ii:]))\n",
    "            \n",
    "        time.sleep(0.2)\n",
    "    \n",
    "    track_features = reduce(operator.add, track_features)\n",
    "    \n",
    "    track_features = list(filter(None, track_features)) # Makes sure there are no NoneType in the list, \n",
    "                                                        # this happens when API returns nothing for given ID.\n",
    "    track_features_df = json_normalize(track_features) # Turn JSON format to pandas dataframe\n",
    "        \n",
    "    return track_features_df"
   ]
  },
  {
   "cell_type": "code",
   "execution_count": 34,
   "metadata": {},
   "outputs": [],
   "source": [
    "def pull_songs_and_feats(playlist_id):\n",
    "    \"\"\"\n",
    "    Takes a playlist ID and automates calling and merging the \n",
    "    track identifiers with the track features.\n",
    "    \n",
    "    \"\"\"\n",
    "    \n",
    "    track_df = spotify_playlist_tracks(playlist_id)\n",
    "    \n",
    "    id_list = list(track_df['track_id'])\n",
    "    \n",
    "    track_ids = list(filter(None, id_list))\n",
    "    \n",
    "    track_features_df = spotify_track_features(track_ids)\n",
    "    \n",
    "    playlist_tracks = track_df.merge(track_features_df, how = 'right', \n",
    "                                     left_on = 'track_id', right_on = 'id')\n",
    "    \n",
    "    playlist_tracks = playlist_tracks.drop(columns = ['id', 'uri', 'track_href', \n",
    "                                                      'analysis_url', 'type'])\n",
    "    playlist_tracks = playlist_tracks.drop_duplicates()\n",
    "    \n",
    "    return playlist_tracks "
   ]
  },
  {
   "cell_type": "code",
   "execution_count": 6,
   "metadata": {},
   "outputs": [
    {
     "name": "stdout",
     "output_type": "stream",
     "text": [
      "(96, 17)\n"
     ]
    },
    {
     "data": {
      "text/html": [
       "<div>\n",
       "<style scoped>\n",
       "    .dataframe tbody tr th:only-of-type {\n",
       "        vertical-align: middle;\n",
       "    }\n",
       "\n",
       "    .dataframe tbody tr th {\n",
       "        vertical-align: top;\n",
       "    }\n",
       "\n",
       "    .dataframe thead th {\n",
       "        text-align: right;\n",
       "    }\n",
       "</style>\n",
       "<table border=\"1\" class=\"dataframe\">\n",
       "  <thead>\n",
       "    <tr style=\"text-align: right;\">\n",
       "      <th></th>\n",
       "      <th>artist</th>\n",
       "      <th>album</th>\n",
       "      <th>track</th>\n",
       "      <th>track_id</th>\n",
       "      <th>danceability</th>\n",
       "      <th>energy</th>\n",
       "      <th>key</th>\n",
       "      <th>loudness</th>\n",
       "      <th>mode</th>\n",
       "      <th>speechiness</th>\n",
       "      <th>acousticness</th>\n",
       "      <th>instrumentalness</th>\n",
       "      <th>liveness</th>\n",
       "      <th>valence</th>\n",
       "      <th>tempo</th>\n",
       "      <th>duration_ms</th>\n",
       "      <th>time_signature</th>\n",
       "    </tr>\n",
       "  </thead>\n",
       "  <tbody>\n",
       "    <tr>\n",
       "      <th>0</th>\n",
       "      <td>Meek Mill</td>\n",
       "      <td>Championships</td>\n",
       "      <td>Going Bad (feat. Drake)</td>\n",
       "      <td>2IRZnDFmlqMuOrYOLnZZyc</td>\n",
       "      <td>0.889</td>\n",
       "      <td>0.496</td>\n",
       "      <td>4</td>\n",
       "      <td>-6.365</td>\n",
       "      <td>0</td>\n",
       "      <td>0.0905</td>\n",
       "      <td>0.25900</td>\n",
       "      <td>0.0</td>\n",
       "      <td>0.252</td>\n",
       "      <td>0.544</td>\n",
       "      <td>86.003</td>\n",
       "      <td>180522</td>\n",
       "      <td>4</td>\n",
       "    </tr>\n",
       "    <tr>\n",
       "      <th>1</th>\n",
       "      <td>J. Cole</td>\n",
       "      <td>MIDDLE CHILD</td>\n",
       "      <td>MIDDLE CHILD</td>\n",
       "      <td>2JvzF1RMd7lE3KmFlsyZD8</td>\n",
       "      <td>0.837</td>\n",
       "      <td>0.364</td>\n",
       "      <td>8</td>\n",
       "      <td>-11.713</td>\n",
       "      <td>1</td>\n",
       "      <td>0.2760</td>\n",
       "      <td>0.14900</td>\n",
       "      <td>0.0</td>\n",
       "      <td>0.271</td>\n",
       "      <td>0.463</td>\n",
       "      <td>123.984</td>\n",
       "      <td>213594</td>\n",
       "      <td>4</td>\n",
       "    </tr>\n",
       "    <tr>\n",
       "      <th>2</th>\n",
       "      <td>Travis Scott</td>\n",
       "      <td>ASTROWORLD</td>\n",
       "      <td>SICKO MODE</td>\n",
       "      <td>2xLMifQCjDGFmkHkpNLD9h</td>\n",
       "      <td>0.834</td>\n",
       "      <td>0.730</td>\n",
       "      <td>8</td>\n",
       "      <td>-3.714</td>\n",
       "      <td>1</td>\n",
       "      <td>0.2220</td>\n",
       "      <td>0.00513</td>\n",
       "      <td>0.0</td>\n",
       "      <td>0.124</td>\n",
       "      <td>0.446</td>\n",
       "      <td>155.008</td>\n",
       "      <td>312820</td>\n",
       "      <td>4</td>\n",
       "    </tr>\n",
       "    <tr>\n",
       "      <th>3</th>\n",
       "      <td>Mustard</td>\n",
       "      <td>Perfect Ten</td>\n",
       "      <td>Pure Water (with Migos)</td>\n",
       "      <td>3j84U36KvLeXNDPv4t5pI8</td>\n",
       "      <td>0.682</td>\n",
       "      <td>0.559</td>\n",
       "      <td>0</td>\n",
       "      <td>-5.545</td>\n",
       "      <td>1</td>\n",
       "      <td>0.1270</td>\n",
       "      <td>0.17400</td>\n",
       "      <td>0.0</td>\n",
       "      <td>0.344</td>\n",
       "      <td>0.137</td>\n",
       "      <td>202.015</td>\n",
       "      <td>192471</td>\n",
       "      <td>4</td>\n",
       "    </tr>\n",
       "    <tr>\n",
       "      <th>4</th>\n",
       "      <td>A Boogie Wit da Hoodie</td>\n",
       "      <td>Hoodie SZN</td>\n",
       "      <td>Swervin (feat. 6ix9ine)</td>\n",
       "      <td>1wJRveJZLSb1rjhnUHQiv6</td>\n",
       "      <td>0.581</td>\n",
       "      <td>0.662</td>\n",
       "      <td>9</td>\n",
       "      <td>-5.239</td>\n",
       "      <td>1</td>\n",
       "      <td>0.3030</td>\n",
       "      <td>0.01530</td>\n",
       "      <td>0.0</td>\n",
       "      <td>0.111</td>\n",
       "      <td>0.434</td>\n",
       "      <td>93.023</td>\n",
       "      <td>189487</td>\n",
       "      <td>4</td>\n",
       "    </tr>\n",
       "  </tbody>\n",
       "</table>\n",
       "</div>"
      ],
      "text/plain": [
       "                   artist          album                    track  \\\n",
       "0               Meek Mill  Championships  Going Bad (feat. Drake)   \n",
       "1                 J. Cole   MIDDLE CHILD             MIDDLE CHILD   \n",
       "2            Travis Scott     ASTROWORLD               SICKO MODE   \n",
       "3                 Mustard    Perfect Ten  Pure Water (with Migos)   \n",
       "4  A Boogie Wit da Hoodie     Hoodie SZN  Swervin (feat. 6ix9ine)   \n",
       "\n",
       "                 track_id  danceability  energy  key  loudness  mode  \\\n",
       "0  2IRZnDFmlqMuOrYOLnZZyc         0.889   0.496    4    -6.365     0   \n",
       "1  2JvzF1RMd7lE3KmFlsyZD8         0.837   0.364    8   -11.713     1   \n",
       "2  2xLMifQCjDGFmkHkpNLD9h         0.834   0.730    8    -3.714     1   \n",
       "3  3j84U36KvLeXNDPv4t5pI8         0.682   0.559    0    -5.545     1   \n",
       "4  1wJRveJZLSb1rjhnUHQiv6         0.581   0.662    9    -5.239     1   \n",
       "\n",
       "   speechiness  acousticness  instrumentalness  liveness  valence    tempo  \\\n",
       "0       0.0905       0.25900               0.0     0.252    0.544   86.003   \n",
       "1       0.2760       0.14900               0.0     0.271    0.463  123.984   \n",
       "2       0.2220       0.00513               0.0     0.124    0.446  155.008   \n",
       "3       0.1270       0.17400               0.0     0.344    0.137  202.015   \n",
       "4       0.3030       0.01530               0.0     0.111    0.434   93.023   \n",
       "\n",
       "   duration_ms  time_signature  \n",
       "0       180522               4  \n",
       "1       213594               4  \n",
       "2       312820               4  \n",
       "3       192471               4  \n",
       "4       189487               4  "
      ]
     },
     "execution_count": 6,
     "metadata": {},
     "output_type": "execute_result"
    }
   ],
   "source": [
    "# # tested if it works for other playlists\n",
    "# playlist_id1 = '3AjnEOZV1nJDSFfdcJMJT5'\n",
    "\n",
    "# playlist_id2 = '5PKZSKuHP4d27SXO5fB9Wl'\n",
    "\n",
    "playlist_id3 = '37i9dQZF1DXdURFimg6Blm'\n",
    "\n",
    "test = pull_songs_and_feats(playlist_id3)\n",
    "print(test.shape)\n",
    "test.head()"
   ]
  },
  {
   "cell_type": "code",
   "execution_count": 7,
   "metadata": {},
   "outputs": [],
   "source": [
    "test.to_csv('test_case_ez.csv', index = False) #save test case(s)"
   ]
  },
  {
   "cell_type": "code",
   "execution_count": 27,
   "metadata": {},
   "outputs": [],
   "source": [
    "playlist_id = '7htu5ftbLBRFAwiuHVcUAg'\n",
    "track_master_df = pull_songs_and_feats(playlist_id)\n",
    "print(track_master_df.shape)\n",
    "track_master_df.head()"
   ]
  },
  {
   "cell_type": "code",
   "execution_count": 28,
   "metadata": {},
   "outputs": [
    {
     "data": {
      "text/plain": [
       "(9650, 17)"
      ]
     },
     "execution_count": 28,
     "metadata": {},
     "output_type": "execute_result"
    }
   ],
   "source": [
    "track_master_df = pd.read_csv('track_master_df.csv')\n",
    "track_master_df.shape"
   ]
  },
  {
   "cell_type": "code",
   "execution_count": 26,
   "metadata": {},
   "outputs": [],
   "source": [
    "#update master dataframe for more recommendations.\n",
    "playlist_updates = open('playlists.txt', 'r')\n",
    "reader = csv.reader(playlist_updates)\n",
    "allRows = [row for row in reader]\n",
    "\n",
    "playlist_list = allRows[0]"
   ]
  },
  {
   "cell_type": "code",
   "execution_count": 35,
   "metadata": {},
   "outputs": [],
   "source": [
    "for playlist in playlist_list:\n",
    "    print(playlist)\n",
    "    track_master_df = pd.concat([track_master_df, pull_songs_and_feats(playlist)])\n",
    "    track_master_df = track_master_df.drop_duplicates()"
   ]
  },
  {
   "cell_type": "code",
   "execution_count": 36,
   "metadata": {},
   "outputs": [
    {
     "data": {
      "text/plain": [
       "(28929, 17)"
      ]
     },
     "execution_count": 36,
     "metadata": {},
     "output_type": "execute_result"
    }
   ],
   "source": [
    "track_master_df.shape #now it has 28k songs, triple the original"
   ]
  },
  {
   "cell_type": "code",
   "execution_count": 37,
   "metadata": {},
   "outputs": [],
   "source": [
    "track_master_df.to_csv('track_master_df.csv', index = False) #save point"
   ]
  },
  {
   "cell_type": "code",
   "execution_count": 22,
   "metadata": {},
   "outputs": [],
   "source": [
    "# sp.search(q='genre:\"hip hop\"', limit = 50, type= 'artist') #returns artists from a given genre"
   ]
  },
  {
   "cell_type": "code",
   "execution_count": null,
   "metadata": {},
   "outputs": [],
   "source": []
  }
 ],
 "metadata": {
  "kernelspec": {
   "display_name": "Python 3",
   "language": "python",
   "name": "python3"
  },
  "language_info": {
   "codemirror_mode": {
    "name": "ipython",
    "version": 3
   },
   "file_extension": ".py",
   "mimetype": "text/x-python",
   "name": "python",
   "nbconvert_exporter": "python",
   "pygments_lexer": "ipython3",
   "version": "3.6.9"
  }
 },
 "nbformat": 4,
 "nbformat_minor": 4
}
