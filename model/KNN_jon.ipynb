{
 "cells": [
  {
   "cell_type": "code",
   "execution_count": 86,
   "metadata": {},
   "outputs": [],
   "source": [
    "import numpy as np\n",
    "import pandas as pd\n",
    "from sklearn.neighbors import NearestNeighbors\n",
    "import operator\n",
    "import pickle "
   ]
  },
  {
   "cell_type": "code",
   "execution_count": 2,
   "metadata": {},
   "outputs": [
    {
     "data": {
      "text/plain": [
       "(9650, 17)"
      ]
     },
     "execution_count": 2,
     "metadata": {},
     "output_type": "execute_result"
    }
   ],
   "source": [
    "track_master_df = pd.read_csv('track_master_df.csv')\n",
    "track_master_df.shape"
   ]
  },
  {
   "cell_type": "code",
   "execution_count": 7,
   "metadata": {},
   "outputs": [],
   "source": [
    "test_tracks = pd.read_csv('test_case.csv')"
   ]
  },
  {
   "cell_type": "code",
   "execution_count": 10,
   "metadata": {},
   "outputs": [],
   "source": [
    "drop_cols = ['artist', 'album', 'track', 'track_id']\n",
    "\n",
    "X_train = track_master_df.drop(columns = drop_cols)\n",
    "\n",
    "X_test = test_tracks.drop(columns = drop_cols)"
   ]
  },
  {
   "cell_type": "code",
   "execution_count": 9,
   "metadata": {},
   "outputs": [],
   "source": [
    "knn = NearestNeighbors(n_neighbors=5, algorithm='kd_tree').fit(X_train)"
   ]
  },
  {
   "cell_type": "code",
   "execution_count": 12,
   "metadata": {},
   "outputs": [],
   "source": [
    "distances, indices = knn.kneighbors(X_test)"
   ]
  },
  {
   "cell_type": "code",
   "execution_count": 87,
   "metadata": {},
   "outputs": [],
   "source": [
    "# Its important to use binary mode \n",
    "knn_pickle = open('knnpickled', 'wb') \n",
    "\n",
    "# source, destination \n",
    "pickle.dump(knn, knn_pickle)                      "
   ]
  },
  {
   "cell_type": "code",
   "execution_count": 37,
   "metadata": {},
   "outputs": [],
   "source": [
    "# # load the model\n",
    "# loaded_model = pickle.load(open('knnpickled', 'rb'))\n",
    "# result = loaded_model.predict(X_test) "
   ]
  },
  {
   "cell_type": "code",
   "execution_count": 13,
   "metadata": {},
   "outputs": [
    {
     "data": {
      "text/plain": [
       "array([[5693, 8126, 7977, 5042, 6045],\n",
       "       [8705, 3553, 2901, 6352, 6515],\n",
       "       [8897, 4800, 4039, 8046, 8544],\n",
       "       [4902, 4064, 1805, 3584, 9416],\n",
       "       [ 282, 9078, 3728, 6810, 1877],\n",
       "       [1541, 6254, 9505, 7190, 1536],\n",
       "       [1021, 2645, 3074, 3678, 2393],\n",
       "       [1752, 7300, 6257, 5395, 5807],\n",
       "       [4811, 4285, 1940, 6662, 4304],\n",
       "       [1808, 4188, 1044, 6815, 6972],\n",
       "       [3293, 4055, 7476,  875, 4383],\n",
       "       [5472, 8062, 8429, 4018, 6250],\n",
       "       [9250, 5585,  413, 3967, 9476]])"
      ]
     },
     "execution_count": 13,
     "metadata": {},
     "output_type": "execute_result"
    }
   ],
   "source": [
    "indices"
   ]
  },
  {
   "cell_type": "code",
   "execution_count": 28,
   "metadata": {},
   "outputs": [
    {
     "data": {
      "text/plain": [
       "array([[39.5792277 , 45.51040963, 46.61482086, 50.45865301, 52.36851431],\n",
       "       [ 0.        , 22.55081201, 43.19630838, 45.32310325, 45.65762443],\n",
       "       [12.57199594, 22.1328905 , 43.00935584, 43.32750337, 50.41571789],\n",
       "       [19.36216389, 25.34454699, 35.55630885, 53.58995679, 63.32647685],\n",
       "       [ 0.        , 20.82312796, 30.40603846, 32.37235047, 34.89708647],\n",
       "       [ 0.        , 15.93425035, 40.36314622, 43.05843212, 48.54124602],\n",
       "       [ 0.        , 16.61446361, 31.37678678, 60.79655261, 67.57502377],\n",
       "       [ 0.        , 64.3038712 , 64.66443145, 68.07058708, 75.62057531],\n",
       "       [15.09146261, 26.1371749 , 32.46923998, 32.98035392, 35.49199129],\n",
       "       [ 0.        ,  6.49446415, 13.30877887, 39.22663807, 40.21411076],\n",
       "       [40.12189874, 40.23662806, 42.12032638, 45.53288   , 45.79620138],\n",
       "       [30.03719626, 33.0794943 , 33.74515013, 34.45749801, 43.73032492],\n",
       "       [ 3.08967913, 31.10158097, 34.58640959, 34.65045427, 46.6986893 ]])"
      ]
     },
     "execution_count": 28,
     "metadata": {},
     "output_type": "execute_result"
    }
   ],
   "source": [
    "distances"
   ]
  },
  {
   "cell_type": "code",
   "execution_count": 66,
   "metadata": {},
   "outputs": [],
   "source": [
    "recommend_indices = []\n",
    "for ii, dists in enumerate(distances):\n",
    "    for jj, val in enumerate(dists):\n",
    "        if (val > 0) & (val < 50):\n",
    "            recommend_indices.append((indices[ii][jj], int(round(val))))\n",
    "\n",
    "recommend_indices = sorted(recommend_indices, key = operator.itemgetter(1))"
   ]
  },
  {
   "cell_type": "code",
   "execution_count": 59,
   "metadata": {},
   "outputs": [],
   "source": [
    "ind, val = zip(*recommend_indices) "
   ]
  },
  {
   "cell_type": "code",
   "execution_count": 71,
   "metadata": {},
   "outputs": [
    {
     "data": {
      "text/html": [
       "<div>\n",
       "<style scoped>\n",
       "    .dataframe tbody tr th:only-of-type {\n",
       "        vertical-align: middle;\n",
       "    }\n",
       "\n",
       "    .dataframe tbody tr th {\n",
       "        vertical-align: top;\n",
       "    }\n",
       "\n",
       "    .dataframe thead th {\n",
       "        text-align: right;\n",
       "    }\n",
       "</style>\n",
       "<table border=\"1\" class=\"dataframe\">\n",
       "  <thead>\n",
       "    <tr style=\"text-align: right;\">\n",
       "      <th></th>\n",
       "      <th>artist</th>\n",
       "      <th>album</th>\n",
       "      <th>track</th>\n",
       "    </tr>\n",
       "  </thead>\n",
       "  <tbody>\n",
       "    <tr>\n",
       "      <th>9250</th>\n",
       "      <td>Jaira Burns</td>\n",
       "      <td>Ugly</td>\n",
       "      <td>Ugly</td>\n",
       "    </tr>\n",
       "    <tr>\n",
       "      <th>4188</th>\n",
       "      <td>The Shadowboxers</td>\n",
       "      <td>Build The Beat</td>\n",
       "      <td>Build The Beat</td>\n",
       "    </tr>\n",
       "    <tr>\n",
       "      <th>8897</th>\n",
       "      <td>Halsey</td>\n",
       "      <td>hopeless fountain kingdom (Deluxe)</td>\n",
       "      <td>Eyes Closed</td>\n",
       "    </tr>\n",
       "    <tr>\n",
       "      <th>1044</th>\n",
       "      <td>Unwritten Law</td>\n",
       "      <td>Funk Metal Favorites</td>\n",
       "      <td>Seein' Red</td>\n",
       "    </tr>\n",
       "    <tr>\n",
       "      <th>4811</th>\n",
       "      <td>Felipe Muñiz</td>\n",
       "      <td>Deje de Amar</td>\n",
       "      <td>Deje de Amar</td>\n",
       "    </tr>\n",
       "    <tr>\n",
       "      <th>6254</th>\n",
       "      <td>Common</td>\n",
       "      <td>Black America Again</td>\n",
       "      <td>Unfamiliar</td>\n",
       "    </tr>\n",
       "    <tr>\n",
       "      <th>2645</th>\n",
       "      <td>The Go-Go's</td>\n",
       "      <td>Return To The Valley Of The Go-Go's</td>\n",
       "      <td>This Town</td>\n",
       "    </tr>\n",
       "    <tr>\n",
       "      <th>4902</th>\n",
       "      <td>Fools Garden</td>\n",
       "      <td>Dish Of The Day</td>\n",
       "      <td>Lemon Tree</td>\n",
       "    </tr>\n",
       "    <tr>\n",
       "      <th>9078</th>\n",
       "      <td>The Detroit Emeralds</td>\n",
       "      <td>Greatest Hits</td>\n",
       "      <td>Baby Let Me Take You (In My Arms)</td>\n",
       "    </tr>\n",
       "    <tr>\n",
       "      <th>4800</th>\n",
       "      <td>Mackenzie Thoms</td>\n",
       "      <td>Shout</td>\n",
       "      <td>Shout</td>\n",
       "    </tr>\n",
       "  </tbody>\n",
       "</table>\n",
       "</div>"
      ],
      "text/plain": [
       "                    artist                                album  \\\n",
       "9250           Jaira Burns                                 Ugly   \n",
       "4188      The Shadowboxers                       Build The Beat   \n",
       "8897                Halsey   hopeless fountain kingdom (Deluxe)   \n",
       "1044         Unwritten Law                 Funk Metal Favorites   \n",
       "4811          Felipe Muñiz                         Deje de Amar   \n",
       "6254                Common                  Black America Again   \n",
       "2645           The Go-Go's  Return To The Valley Of The Go-Go's   \n",
       "4902          Fools Garden                      Dish Of The Day   \n",
       "9078  The Detroit Emeralds                        Greatest Hits   \n",
       "4800       Mackenzie Thoms                                Shout   \n",
       "\n",
       "                                  track  \n",
       "9250                               Ugly  \n",
       "4188                     Build The Beat  \n",
       "8897                        Eyes Closed  \n",
       "1044                         Seein' Red  \n",
       "4811                       Deje de Amar  \n",
       "6254                         Unfamiliar  \n",
       "2645                          This Town  \n",
       "4902                         Lemon Tree  \n",
       "9078  Baby Let Me Take You (In My Arms)  \n",
       "4800                              Shout  "
      ]
     },
     "execution_count": 71,
     "metadata": {},
     "output_type": "execute_result"
    }
   ],
   "source": [
    "recommendations = track_master_df.iloc[list(ind[:10])][['artist','album','track']]\n",
    "\n",
    "recommendations"
   ]
  },
  {
   "cell_type": "code",
   "execution_count": 84,
   "metadata": {},
   "outputs": [
    {
     "data": {
      "text/plain": [
       "'{\"schema\": {\"fields\":[{\"name\":\"artist\",\"type\":\"string\"},{\"name\":\"album\",\"type\":\"string\"},{\"name\":\"track\",\"type\":\"string\"}],\"pandas_version\":\"0.20.0\"}, \"data\": [{\"artist\":\"Jaira Burns\",\"album\":\"Ugly\",\"track\":\"Ugly\"},{\"artist\":\"The Shadowboxers\",\"album\":\"Build The Beat\",\"track\":\"Build The Beat\"},{\"artist\":\"Halsey\",\"album\":\"hopeless fountain kingdom (Deluxe)\",\"track\":\"Eyes Closed\"},{\"artist\":\"Unwritten Law\",\"album\":\"Funk Metal Favorites\",\"track\":\"Seein\\' Red\"},{\"artist\":\"Felipe Mu\\\\u00f1iz\",\"album\":\"Deje de Amar\",\"track\":\"Deje de Amar\"},{\"artist\":\"Common\",\"album\":\"Black America Again\",\"track\":\"Unfamiliar\"},{\"artist\":\"The Go-Go\\'s\",\"album\":\"Return To The Valley Of The Go-Go\\'s\",\"track\":\"This Town\"},{\"artist\":\"Fools Garden\",\"album\":\"Dish Of The Day\",\"track\":\"Lemon Tree\"},{\"artist\":\"The Detroit Emeralds\",\"album\":\"Greatest Hits\",\"track\":\"Baby Let Me Take You (In My Arms)\"},{\"artist\":\"Mackenzie Thoms\",\"album\":\"Shout\",\"track\":\"Shout\"}]}'"
      ]
     },
     "execution_count": 84,
     "metadata": {},
     "output_type": "execute_result"
    }
   ],
   "source": [
    "rec_json = recommendations.to_json(orient = 'table', index = False)\n",
    "rec_json"
   ]
  },
  {
   "cell_type": "code",
   "execution_count": null,
   "metadata": {},
   "outputs": [],
   "source": []
  }
 ],
 "metadata": {
  "kernelspec": {
   "display_name": "Python 3",
   "language": "python",
   "name": "python3"
  },
  "language_info": {
   "codemirror_mode": {
    "name": "ipython",
    "version": 3
   },
   "file_extension": ".py",
   "mimetype": "text/x-python",
   "name": "python",
   "nbconvert_exporter": "python",
   "pygments_lexer": "ipython3",
   "version": "3.6.9"
  }
 },
 "nbformat": 4,
 "nbformat_minor": 4
}
