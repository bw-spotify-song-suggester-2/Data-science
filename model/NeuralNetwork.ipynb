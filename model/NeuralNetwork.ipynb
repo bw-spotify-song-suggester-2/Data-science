{
  "nbformat": 4,
  "nbformat_minor": 0,
  "metadata": {
    "kernelspec": {
      "display_name": "Python 3",
      "language": "python",
      "name": "python3"
    },
    "language_info": {
      "codemirror_mode": {
        "name": "ipython",
        "version": 3
      },
      "file_extension": ".py",
      "mimetype": "text/x-python",
      "name": "python",
      "nbconvert_exporter": "python",
      "pygments_lexer": "ipython3",
      "version": "3.6.9"
    },
    "colab": {
      "name": "NeuralNetwork.ipynb",
      "provenance": [],
      "collapsed_sections": []
    }
  },
  "cells": [
    {
      "cell_type": "code",
      "metadata": {
        "id": "MtcD7eNc0qRQ",
        "colab_type": "code",
        "colab": {}
      },
      "source": [
        "import sys\n",
        "import numpy as np\n",
        "import pandas as pd\n",
        "import matplotlib.pyplot as plt\n",
        "\n",
        "import tensorflow as tf\n",
        "from keras.models import Sequential\n",
        "from keras.layers import Dense, Dropout\n",
        "from keras.utils import to_categorical\n",
        "from KMeansCluster import X_train, X_val, X_test, y_train, y_val, y_test"
      ],
      "execution_count": 0,
      "outputs": []
    },
    {
      "cell_type": "code",
      "metadata": {
        "id": "rTLIAdzm0qRa",
        "colab_type": "code",
        "colab": {}
      },
      "source": [
        "y_train = to_categorical(y_train, num_classes=10)\n",
        "y_val = to_categorical(y_val, num_classes=10)\n",
        "y_test = to_categorical(y_test, num_classes=10)\n",
        "\n",
        "X_train_array = X_train.to_numpy()\n",
        "X_val_array = X_val.to_numpy()\n",
        "X_test_array = X_test.to_numpy()"
      ],
      "execution_count": 0,
      "outputs": []
    },
    {
      "cell_type": "code",
      "metadata": {
        "id": "RzBmUOcI0qRg",
        "colab_type": "code",
        "colab": {}
      },
      "source": [
        "model = Sequential()\n",
        "\n",
        "model.add(Dense(20, activation='relu', input_shape=(29,)))\n",
        "model.add(Dropout(0.2))\n",
        "\n",
        "model.add(Dense(5, activation='relu'))\n",
        "model.add(Dropout(0.2))\n",
        "\n",
        "model.add(Dense(10, activation='softmax'))\n",
        "\n",
        "\n",
        "model.compile(loss='categorical_crossentropy',\n",
        "              optimizer='adam',\n",
        "              metrics=['accuracy'])"
      ],
      "execution_count": 0,
      "outputs": []
    },
    {
      "cell_type": "code",
      "metadata": {
        "id": "YjKLq3sC4a9p",
        "colab_type": "code",
        "outputId": "afa5fa3c-3995-49ae-9ef7-d84ddf366df3",
        "colab": {
          "base_uri": "https://localhost:8080/",
          "height": 1000
        }
      },
      "source": [
        "history = model.fit(X_train_array, y_train,epochs=30, \n",
        "          validation_data=(X_val_array, y_val), \n",
        "          batch_size=32, verbose=1)\n",
        "\n",
        "scores = model.evaluate(X_test_array, y_test)"
      ],
      "execution_count": 0,
      "outputs": [
        {
          "output_type": "stream",
          "text": [
            "Train on 23143 samples, validate on 5786 samples\n",
            "Epoch 1/30\n",
            "23143/23143 [==============================] - 3s 127us/step - loss: 2.1183 - acc: 0.1917 - val_loss: 1.7434 - val_acc: 0.3000\n",
            "Epoch 2/30\n",
            "23143/23143 [==============================] - 1s 64us/step - loss: 1.5843 - acc: 0.4081 - val_loss: 1.2028 - val_acc: 0.6580\n",
            "Epoch 3/30\n",
            "23143/23143 [==============================] - 1s 63us/step - loss: 1.3026 - acc: 0.5034 - val_loss: 1.0078 - val_acc: 0.6830\n",
            "Epoch 4/30\n",
            "23143/23143 [==============================] - 2s 65us/step - loss: 1.1902 - acc: 0.5279 - val_loss: 0.9061 - val_acc: 0.7131\n",
            "Epoch 5/30\n",
            "23143/23143 [==============================] - 1s 63us/step - loss: 1.1134 - acc: 0.5673 - val_loss: 0.8394 - val_acc: 0.8076\n",
            "Epoch 6/30\n",
            "23143/23143 [==============================] - 1s 64us/step - loss: 1.0546 - acc: 0.6188 - val_loss: 0.7959 - val_acc: 0.8068\n",
            "Epoch 7/30\n",
            "23143/23143 [==============================] - 2s 65us/step - loss: 1.0076 - acc: 0.6351 - val_loss: 0.7495 - val_acc: 0.7864\n",
            "Epoch 8/30\n",
            "23143/23143 [==============================] - 1s 63us/step - loss: 0.9664 - acc: 0.6520 - val_loss: 0.7134 - val_acc: 0.8088\n",
            "Epoch 9/30\n",
            "23143/23143 [==============================] - 2s 65us/step - loss: 0.9349 - acc: 0.6626 - val_loss: 0.6664 - val_acc: 0.8116\n",
            "Epoch 10/30\n",
            "23143/23143 [==============================] - 2s 67us/step - loss: 0.8905 - acc: 0.6721 - val_loss: 0.6314 - val_acc: 0.8151\n",
            "Epoch 11/30\n",
            "23143/23143 [==============================] - 2s 65us/step - loss: 0.8456 - acc: 0.6887 - val_loss: 0.6059 - val_acc: 0.8330\n",
            "Epoch 12/30\n",
            "23143/23143 [==============================] - 2s 65us/step - loss: 0.8271 - acc: 0.6931 - val_loss: 0.5694 - val_acc: 0.8406\n",
            "Epoch 13/30\n",
            "23143/23143 [==============================] - 1s 64us/step - loss: 0.8029 - acc: 0.7011 - val_loss: 0.5627 - val_acc: 0.8484\n",
            "Epoch 14/30\n",
            "23143/23143 [==============================] - 2s 67us/step - loss: 0.7903 - acc: 0.7048 - val_loss: 0.5425 - val_acc: 0.8453\n",
            "Epoch 15/30\n",
            "23143/23143 [==============================] - 2s 67us/step - loss: 0.7821 - acc: 0.7099 - val_loss: 0.5245 - val_acc: 0.8386\n",
            "Epoch 16/30\n",
            "23143/23143 [==============================] - 2s 67us/step - loss: 0.7673 - acc: 0.7112 - val_loss: 0.5089 - val_acc: 0.8562\n",
            "Epoch 17/30\n",
            "23143/23143 [==============================] - 2s 67us/step - loss: 0.7590 - acc: 0.7135 - val_loss: 0.5063 - val_acc: 0.8495\n",
            "Epoch 18/30\n",
            "23143/23143 [==============================] - 1s 63us/step - loss: 0.7517 - acc: 0.7169 - val_loss: 0.4952 - val_acc: 0.8579\n",
            "Epoch 19/30\n",
            "23143/23143 [==============================] - 1s 65us/step - loss: 0.7456 - acc: 0.7185 - val_loss: 0.4804 - val_acc: 0.8493\n",
            "Epoch 20/30\n",
            "23143/23143 [==============================] - 2s 66us/step - loss: 0.7353 - acc: 0.7233 - val_loss: 0.4889 - val_acc: 0.8534\n",
            "Epoch 21/30\n",
            "23143/23143 [==============================] - 1s 64us/step - loss: 0.7174 - acc: 0.7263 - val_loss: 0.4694 - val_acc: 0.8552\n",
            "Epoch 22/30\n",
            "23143/23143 [==============================] - 2s 66us/step - loss: 0.7140 - acc: 0.7288 - val_loss: 0.4608 - val_acc: 0.8510\n",
            "Epoch 23/30\n",
            "23143/23143 [==============================] - 1s 64us/step - loss: 0.7131 - acc: 0.7306 - val_loss: 0.4624 - val_acc: 0.8600\n",
            "Epoch 24/30\n",
            "23143/23143 [==============================] - 1s 64us/step - loss: 0.6920 - acc: 0.7416 - val_loss: 0.4455 - val_acc: 0.8681\n",
            "Epoch 25/30\n",
            "23143/23143 [==============================] - 1s 63us/step - loss: 0.6813 - acc: 0.7464 - val_loss: 0.4381 - val_acc: 0.8564\n",
            "Epoch 26/30\n",
            "23143/23143 [==============================] - 1s 64us/step - loss: 0.6759 - acc: 0.7711 - val_loss: 0.4223 - val_acc: 0.9158\n",
            "Epoch 27/30\n",
            "23143/23143 [==============================] - 1s 65us/step - loss: 0.6715 - acc: 0.7822 - val_loss: 0.4164 - val_acc: 0.9151\n",
            "Epoch 28/30\n",
            "23143/23143 [==============================] - 1s 64us/step - loss: 0.6704 - acc: 0.7807 - val_loss: 0.4168 - val_acc: 0.8992\n",
            "Epoch 29/30\n",
            "23143/23143 [==============================] - 2s 67us/step - loss: 0.6554 - acc: 0.7855 - val_loss: 0.3976 - val_acc: 0.9183\n",
            "Epoch 30/30\n",
            "23143/23143 [==============================] - 2s 65us/step - loss: 0.6610 - acc: 0.7825 - val_loss: 0.3870 - val_acc: 0.9100\n",
            "5786/5786 [==============================] - 0s 32us/step\n"
          ],
          "name": "stdout"
        }
      ]
    },
    {
      "cell_type": "code",
      "metadata": {
        "id": "WCD2ApMC0qRl",
        "colab_type": "code",
        "outputId": "845d008e-1d96-4745-eeea-34f26a21889f",
        "colab": {
          "base_uri": "https://localhost:8080/",
          "height": 296
        }
      },
      "source": [
        "plt.scatter(history.history['loss'], history.history['acc'])\n",
        "plt.scatter(history.history['val_loss'], history.history['val_acc'])\n",
        "plt.xlabel('loss')\n",
        "plt.ylabel('accuracy')\n",
        "plt.legend(['Train', 'Val'])"
      ],
      "execution_count": 0,
      "outputs": [
        {
          "output_type": "execute_result",
          "data": {
            "text/plain": [
              "<matplotlib.legend.Legend at 0x7f90b5b6b048>"
            ]
          },
          "metadata": {
            "tags": []
          },
          "execution_count": 105
        },
        {
          "output_type": "display_data",
          "data": {
            "image/png": "[encoded data removed]",
            "text/plain": [
              "<Figure size 432x288 with 1 Axes>"
            ]
          },
          "metadata": {
            "tags": []
          }
        }
      ]
    }
  ]
}