{
 "cells": [
  {
   "cell_type": "code",
   "execution_count": 2,
   "metadata": {},
   "outputs": [],
   "source": [
    "import os\n",
    "import pickle\n",
    "import pandas as pd\n",
    "import numpy as np\n",
    "import operator"
   ]
  },
  {
   "cell_type": "code",
   "execution_count": 3,
   "metadata": {},
   "outputs": [],
   "source": [
    "###################\n",
    "##BUILD PREDICTOR##\n",
    "###################\n",
    "\n",
    "\n",
    "\n",
    "loaded_model = pickle.load(open('model/knnpickled', 'rb'))\n",
    "\n",
    "master_df = pd.read_csv('model/track_master_df.csv')"
   ]
  },
  {
   "cell_type": "code",
   "execution_count": 4,
   "metadata": {},
   "outputs": [],
   "source": [
    "class Predictor():\n",
    "    def __init__(self, model=None):\n",
    "        self.model = loaded_model\n",
    "\n",
    "    def predict(self, user_input=None, size=10):\n",
    "        \n",
    "        \"\"\"\n",
    "        nearest neighbors model and feature matrix passed, returns recommendations data\n",
    "\n",
    "        \"\"\"\n",
    "\n",
    "        distances, indices = self.model.kneighbors(X) \n",
    "\n",
    "        recommend_indices = []\n",
    "        for ii, dists in enumerate(distances):\n",
    "            for jj, val in enumerate(dists):\n",
    "                if (val > 0) & (val < 50):\n",
    "                    recommend_indices.append((indices[ii][jj], int(round(val))))\n",
    "\n",
    "        recommend_indices = sorted(recommend_indices, key = operator.itemgetter(1))\n",
    "\n",
    "        ind, val = zip(*recommend_indices) \n",
    "\n",
    "        recommendations = master_df.iloc[list(ind[:size])][drop_cols]\n",
    "\n",
    "        rec_json = recommendations.to_json(orient = 'table', index = False, force_ascii = False)\n",
    "\n",
    "        return rec_json"
   ]
  }
 ],
 "metadata": {
  "kernelspec": {
   "display_name": "Python 3",
   "language": "python",
   "name": "python3"
  },
  "language_info": {
   "codemirror_mode": {
    "name": "ipython",
    "version": 3
   },
   "file_extension": ".py",
   "mimetype": "text/x-python",
   "name": "python",
   "nbconvert_exporter": "python",
   "pygments_lexer": "ipython3",
   "version": "3.6.9"
  }
 },
 "nbformat": 4,
 "nbformat_minor": 4
}
